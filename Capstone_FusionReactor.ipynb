{
 "cells": [
  {
   "cell_type": "markdown",
   "metadata": {
    "collapsed": true
   },
   "source": [
    "# Capstone Project - Whereto? Phase I\n",
    "### IBM Datascience Professional Certificate Course"
   ]
  },
  {
   "cell_type": "markdown",
   "metadata": {},
   "source": [
    "## Table of contents\n",
    "* [Introduction: Business Problem and Interested Parties](#introduction)\n",
    "* [Data: Sources and Process](#data)\n",
    "* [Methodology: Algorithms and ](#methodology) [Analysis](#analysis)\n",
    "* [Results](#results)\n",
    "* [Conclusion](#conclusion)"
   ]
  },
  {
   "cell_type": "markdown",
   "metadata": {},
   "source": [
    "\n",
    "\n",
    "## Introduction: Business Problem <a name=\"introduction\"></a>"
   ]
  },
  {
   "cell_type": "markdown",
   "metadata": {},
   "source": [
    "The purpose of this project is to find the ideal location for a fusion restaurant in Manhattan NY. The project will find a location which is not too crowded with restaurants of that type. This project will identify a few suitable neighborhoods to setup shop. This project is executed for investors who are looking to invest money for this type of venture. "
   ]
  },
  {
   "cell_type": "markdown",
   "metadata": {},
   "source": [
    "## Data <a name=\"data\"></a>"
   ]
  },
  {
   "cell_type": "markdown",
   "metadata": {},
   "source": [
    "Following items will factor into the decision making:\n",
    "* number of existing restaurants in the neighborhood\n",
    "* number of fusion restuarants and their proximity\n",
    "\n",
    "\n",
    "Below data sources are used for this:\n",
    "* neighborhood clustering and segmentation data for Manhattan (pre-exising local file mnhttn_nghbrhds.tsv)\n",
    "* **Foursquare API** will be used to determine type and number of restaurants in each neighborhood"
   ]
  },
  {
   "cell_type": "markdown",
   "metadata": {},
   "source": [
    "### Neighborhoods\n",
    "\n",
    "List of Manhattan Neighborhoods"
   ]
  },
  {
   "cell_type": "code",
   "execution_count": 2,
   "metadata": {},
   "outputs": [
    {
     "name": "stdout",
     "output_type": "stream",
     "text": [
      "200\n"
     ]
    },
    {
     "data": {
      "text/html": [
       "<div>\n",
       "<style scoped>\n",
       "    .dataframe tbody tr th:only-of-type {\n",
       "        vertical-align: middle;\n",
       "    }\n",
       "\n",
       "    .dataframe tbody tr th {\n",
       "        vertical-align: top;\n",
       "    }\n",
       "\n",
       "    .dataframe thead th {\n",
       "        text-align: right;\n",
       "    }\n",
       "</style>\n",
       "<table border=\"1\" class=\"dataframe\">\n",
       "  <thead>\n",
       "    <tr style=\"text-align: right;\">\n",
       "      <th></th>\n",
       "      <th>Unnamed: 0</th>\n",
       "      <th>Borough</th>\n",
       "      <th>Neighborhood</th>\n",
       "      <th>Latitude</th>\n",
       "      <th>Longitude</th>\n",
       "    </tr>\n",
       "  </thead>\n",
       "  <tbody>\n",
       "    <tr>\n",
       "      <th>0</th>\n",
       "      <td>0</td>\n",
       "      <td>Manhattan</td>\n",
       "      <td>Marble Hill</td>\n",
       "      <td>40.876551</td>\n",
       "      <td>-73.910660</td>\n",
       "    </tr>\n",
       "    <tr>\n",
       "      <th>1</th>\n",
       "      <td>1</td>\n",
       "      <td>Manhattan</td>\n",
       "      <td>Chinatown</td>\n",
       "      <td>40.715618</td>\n",
       "      <td>-73.994279</td>\n",
       "    </tr>\n",
       "    <tr>\n",
       "      <th>2</th>\n",
       "      <td>2</td>\n",
       "      <td>Manhattan</td>\n",
       "      <td>Washington Heights</td>\n",
       "      <td>40.851903</td>\n",
       "      <td>-73.936900</td>\n",
       "    </tr>\n",
       "    <tr>\n",
       "      <th>3</th>\n",
       "      <td>3</td>\n",
       "      <td>Manhattan</td>\n",
       "      <td>Inwood</td>\n",
       "      <td>40.867684</td>\n",
       "      <td>-73.921210</td>\n",
       "    </tr>\n",
       "    <tr>\n",
       "      <th>4</th>\n",
       "      <td>4</td>\n",
       "      <td>Manhattan</td>\n",
       "      <td>Hamilton Heights</td>\n",
       "      <td>40.823604</td>\n",
       "      <td>-73.949688</td>\n",
       "    </tr>\n",
       "  </tbody>\n",
       "</table>\n",
       "</div>"
      ],
      "text/plain": [
       "   Unnamed: 0    Borough        Neighborhood   Latitude  Longitude\n",
       "0           0  Manhattan         Marble Hill  40.876551 -73.910660\n",
       "1           1  Manhattan           Chinatown  40.715618 -73.994279\n",
       "2           2  Manhattan  Washington Heights  40.851903 -73.936900\n",
       "3           3  Manhattan              Inwood  40.867684 -73.921210\n",
       "4           4  Manhattan    Hamilton Heights  40.823604 -73.949688"
      ]
     },
     "execution_count": 2,
     "metadata": {},
     "output_type": "execute_result"
    }
   ],
   "source": [
    "import pandas as pd\n",
    "mtn_data = pd.read_csv('mnhttn_nghbrhds.tsv',sep='\\t')\n",
    "print(mtn_data.size)\n",
    "mtn_data.head()"
   ]
  },
  {
   "cell_type": "code",
   "execution_count": 49,
   "metadata": {},
   "outputs": [
    {
     "data": {
      "text/html": [
       "<div style=\"width:100%;\"><div style=\"position:relative;width:100%;height:0;padding-bottom:60%;\"><iframe src=\"data:text/html;charset=utf-8;base64,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\" style=\"position:absolute;width:100%;height:100%;left:0;top:0;border:none !important;\" allowfullscreen webkitallowfullscreen mozallowfullscreen></iframe></div></div>"
      ],
      "text/plain": [
       "<folium.folium.Map at 0x2182d776358>"
      ]
     },
     "execution_count": 49,
     "metadata": {},
     "output_type": "execute_result"
    }
   ],
   "source": [
    "import folium\n",
    "map_mtn = folium.Map(location=[40.7900869, -73.9598295], zoom_start=12)\n",
    "\n",
    "for lat, lng, label in zip(mtn_data['Latitude'], mtn_data['Longitude'], mtn_data['Neighborhood']):\n",
    "    folium.Marker(location=[ lat, lng ]).add_to( map_mtn )  \n",
    "    \n",
    "map_mtn"
   ]
  },
  {
   "cell_type": "markdown",
   "metadata": {},
   "source": [
    "### Foursquare\n",
    "\n",
    "\n",
    "Using foursquare API to get locations and count of restaurants. Since Foursquare doesn't have a fusion category so a google maps search result data was also used to get an idea of the fusion restaurants [URL](https://www.google.com/maps/search/fusion+restaurant/@40.7801874,-74.0368307,12z/data=!4m8!2m7!3m6!1sfusion+restaurant!2sManhattan,+New+York,+NY!3s0x89c2588f046ee661:0xa0b3281fcecc08c!4m2!1d-73.9712488!2d40.7830603)\n",
    "\n",
    "API call output data is **not uploaded** to Github (response json was processed and results are posted on this notebook)"
   ]
  },
  {
   "cell_type": "markdown",
   "metadata": {},
   "source": [
    "Some sample URLs (the real url was limited to a specific lat,long & radius with api keys included)\n",
    "\n",
    "* Search Resturants URL https://api.foursquare.com/v2/venues/search?ll=40.7484,-73.9857&categoryId=4d4b7105d754a06374d81259\n",
    "* Search Fusion Restaurants URL https://api.foursquare.com/v2/venues/search?ll=40.7484,-73.9857&categoryId=4d4b7105d754a06374d81259&query=fusion\n",
    "* Explore Resturants URL https://api.foursquare.com/v2/venues/explore?ll=40.7484,-73.9857&categoryId=4d4b7105d754a06374d81259\n",
    "* Explore Fusion Restaurants URL https://api.foursquare.com/v2/venues/explore?ll=40.7484,-73.9857&categoryId=4d4b7105d754a06374d81259&query=fusion"
   ]
  },
  {
   "cell_type": "code",
   "execution_count": null,
   "metadata": {},
   "outputs": [],
   "source": [
    "#code to download foursquare data\n",
    "#import codecs\n",
    "#import json\n",
    "#import urllib.request, json \n",
    "#for index, row in mtn_data.iterrows():\n",
    "#    with urllib.request.urlopen(\"https://api.foursquare.com/v2/venues/search?ll=\"+str(row['Latitude'])+\",\"+str(row['Longitude'])+\"&categoryId=4d4b7105d754a06374d81259&radius=200&client_id=&client_secret=&v=20120609&intent=browse&query=fusion\") as url:\n",
    "#        data = json.loads(url.read().decode()) \n",
    "#        with codecs.open(\"foursquare/fuse/\"+str(index)+\".txt\", \"w\", \"utf-8-sig\") as text_file:\n",
    "#            json.dump(data,text_file) "
   ]
  },
  {
   "cell_type": "code",
   "execution_count": 18,
   "metadata": {},
   "outputs": [],
   "source": [
    "import json\n",
    "import ast\n",
    "from pandas.io.json import json_normalize \n",
    "\n",
    "venue_map = []\n",
    "fusion_venue_map = []\n",
    "uq_ids = set()\n",
    "uq_fids = set()\n",
    "\n",
    "for index, row in mtn_data.iterrows():\n",
    "    with open('foursquare/rest/'+str(index)+'.txt', encoding='utf-8-sig') as fh:\n",
    "        venue_search_result = json.load(fh)\n",
    "        for venue in venue_search_result['response']['venues']:\n",
    "            category = 'U'\n",
    "            uq_ids.add(venue.get(\"id\"))\n",
    "            venue_map.append({\"neigh\":index,\"id\":venue.get(\"id\"),\"name\":venue.get(\"name\"),\n",
    "                              \"lat\":venue['location']['lat'],\"lng\":venue['location']['lng'],\"cat\":category}) \n",
    "    with open('foursquare/fuse/'+str(index)+'.txt', encoding='utf-8-sig') as fh:\n",
    "        fusion_venue_search_result = json.load(fh)\n",
    "        for venue in fusion_venue_search_result['response']['venues']:\n",
    "            category = 'U'\n",
    "            uq_fids.add(venue.get(\"id\"))\n",
    "            fusion_venue_map.append({\"neigh\":index,\"id\":venue.get(\"id\"),\"name\":venue.get(\"name\"),\n",
    "                              \"lat\":venue['location']['lat'],\"lng\":venue['location']['lng'],\"cat\":category}) \n",
    "    \n",
    "all_eateries = pd.DataFrame(venue_map)\n",
    "all_fusion_eateries = pd.DataFrame(fusion_venue_map)"
   ]
  },
  {
   "cell_type": "code",
   "execution_count": 4,
   "metadata": {},
   "outputs": [
    {
     "name": "stdout",
     "output_type": "stream",
     "text": [
      "Total number of restaurants: 929\n",
      "Total number of fusion restaurants: 6\n",
      "Percentage of fusion restaurants: 0.65%\n"
     ]
    }
   ],
   "source": [
    "import numpy as np\n",
    "\n",
    "print('Total number of restaurants:',len(uq_ids))\n",
    "print('Total number of fusion restaurants:', len(uq_fids))\n",
    "print('Percentage of fusion restaurants: {:.2f}%'.format(len(uq_fids) / len(uq_ids) * 100))"
   ]
  },
  {
   "cell_type": "markdown",
   "metadata": {},
   "source": [
    "Show all collected data on the map with fusion restaurants in a different color"
   ]
  },
  {
   "cell_type": "code",
   "execution_count": 52,
   "metadata": {},
   "outputs": [
    {
     "data": {
      "text/html": [
       "<div style=\"width:100%;\"><div style=\"position:relative;width:100%;height:0;padding-bottom:60%;\"><iframe src=\"data:text/html;charset=utf-8;base64,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\" style=\"position:absolute;width:100%;height:100%;left:0;top:0;border:none !important;\" allowfullscreen webkitallowfullscreen mozallowfullscreen></iframe></div></div>"
      ],
      "text/plain": [
       "<folium.folium.Map at 0x2182f06ba58>"
      ]
     },
     "execution_count": 52,
     "metadata": {},
     "output_type": "execute_result"
    }
   ],
   "source": [
    "import folium\n",
    "map_mtn = folium.Map(location=[40.7900869, -73.9598295], zoom_start=12)\n",
    "\n",
    "#for index, row in all_eateries.iterrows():\n",
    "    #folium.Marker(location=[ row.lat, row.lng ]).add_to( map_mtn )  \n",
    "for index, row in all_fusion_eateries.iterrows():\n",
    "    folium.Marker(location=[ row.lat, row.lng ],icon=folium.Icon(color='#ff0000')).add_to( map_mtn )  \n",
    "    \n",
    "map_mtn"
   ]
  },
  {
   "cell_type": "markdown",
   "metadata": {},
   "source": [
    "## Methodology <a name=\"methodology\"></a>"
   ]
  },
  {
   "cell_type": "markdown",
   "metadata": {},
   "source": [
    "With data in hand we will look for desirable places with low restaurant density and with no fusion themed restaurants nearby. A heatmap will be generated to get a good picture of restaurant density. The promising ares will be further filtered using filter criteria."
   ]
  },
  {
   "cell_type": "markdown",
   "metadata": {},
   "source": [
    "## Analysis <a name=\"analysis\"></a>"
   ]
  },
  {
   "cell_type": "markdown",
   "metadata": {},
   "source": [
    "A count of restaurants in every neighbourhood"
   ]
  },
  {
   "cell_type": "code",
   "execution_count": 48,
   "metadata": {},
   "outputs": [
    {
     "name": "stdout",
     "output_type": "stream",
     "text": [
      "0 Marble Hill: 7\n",
      "1 Chinatown: 30\n",
      "2 Washington Heights: 16\n",
      "3 Inwood: 22\n",
      "4 Hamilton Heights: 30\n",
      "5 Manhattanville: 21\n",
      "6 Central Harlem: 21\n",
      "7 East Harlem: 30\n",
      "8 Upper East Side: 17\n",
      "9 Yorkville: 27\n",
      "10 Lenox Hill: 24\n",
      "11 Roosevelt Island: 8\n",
      "12 Upper West Side: 27\n",
      "13 Lincoln Square: 30\n",
      "14 Clinton: 17\n",
      "15 Midtown: 30\n",
      "16 Murray Hill: 30\n",
      "17 Chelsea: 25\n",
      "18 Greenwich Village: 30\n",
      "19 East Village: 30\n",
      "20 Lower East Side: 21\n",
      "21 Tribeca: 18\n",
      "22 Little Italy: 30\n",
      "23 Soho: 12\n",
      "24 West Village: 30\n",
      "25 Manhattan Valley: 18\n",
      "26 Morningside Heights: 30\n",
      "27 Gramercy: 15\n",
      "28 Battery Park City: 30\n",
      "29 Financial District: 30\n",
      "30 Carnegie Hill: 15\n",
      "31 Noho: 30\n",
      "32 Civic Center: 30\n",
      "33 Midtown South: 30\n",
      "34 Sutton Place: 30\n",
      "35 Turtle Bay: 22\n",
      "36 Tudor City: 9\n",
      "37 Stuyvesant Town: 4\n",
      "38 Flatiron: 30\n",
      "39 Hudson Yards: 23\n"
     ]
    }
   ],
   "source": [
    "rest_counts_by_neigh = all_eateries.groupby('neigh').size()\n",
    "for index, row in mtn_data.iterrows():\n",
    "    print(str(index)+\" \"+row['Neighborhood']+\": \"+str(rest_counts_by_neigh[index]))"
   ]
  },
  {
   "cell_type": "markdown",
   "metadata": {},
   "source": [
    "List of neighborhoods with fusion eateries"
   ]
  },
  {
   "cell_type": "code",
   "execution_count": 47,
   "metadata": {},
   "outputs": [
    {
     "data": {
      "text/plain": [
       "neigh\n",
       "2     1\n",
       "9     1\n",
       "16    1\n",
       "18    1\n",
       "32    1\n",
       "34    1\n",
       "dtype: int64"
      ]
     },
     "execution_count": 47,
     "metadata": {},
     "output_type": "execute_result"
    }
   ],
   "source": [
    "all_fusion_eateries.groupby('neigh').size()"
   ]
  },
  {
   "cell_type": "markdown",
   "metadata": {},
   "source": [
    "At the start of the project the idea was to look for places where there arent many resturants but since it looks like there aren't many fusion restaurants we should look for places with quite a few restuarants indicating areas with good chunk of customers but away from existing fusion themed restaurants."
   ]
  },
  {
   "cell_type": "markdown",
   "metadata": {},
   "source": [
    "## Results and Discussion <a name=\"results\"></a>"
   ]
  },
  {
   "cell_type": "markdown",
   "metadata": {},
   "source": [
    "The analysis has shown that eventhough there are many restaurants in Manhattan there aren't many fusion themed restaurants. Based on the count and cluster there are many promising neighborhoods like Midtown South. Detailed analyis and additional reporting is outside the scope of this project and will be taken up in phase 2 and beyond."
   ]
  },
  {
   "cell_type": "markdown",
   "metadata": {},
   "source": [
    "## Conclusion <a name=\"conclusion\"></a>"
   ]
  },
  {
   "cell_type": "markdown",
   "metadata": {},
   "source": [
    "Purpose of this project was to determine the viability of a fusion restaurant in Manhattan NY. The analysis has shown a few promising neighborhoods. The final decision will be made by investors based on additional factors like rental prices, crime, living vs work areas, walkability and other ROI factors. This concludes Phase I one of the 'Fusion Reactor' project."
   ]
  }
 ],
 "metadata": {
  "kernelspec": {
   "display_name": "Python 3",
   "language": "python",
   "name": "python3"
  }
 },
 "nbformat": 4,
 "nbformat_minor": 1
}
